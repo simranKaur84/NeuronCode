{
 "cells": [
  {
   "cell_type": "markdown",
   "id": "5b70ad7d",
   "metadata": {},
   "source": [
    "# One Neuron with three Inputs "
   ]
  },
  {
   "cell_type": "code",
   "execution_count": 1,
   "id": "49fa54ac",
   "metadata": {},
   "outputs": [],
   "source": [
    "inputs = [2.1, 3.4, 2.9]"
   ]
  },
  {
   "cell_type": "code",
   "execution_count": 2,
   "id": "f142e871",
   "metadata": {},
   "outputs": [],
   "source": [
    "weights = [3.1, 2.1, 8.7]"
   ]
  },
  {
   "cell_type": "code",
   "execution_count": 3,
   "id": "2c7b1a1a",
   "metadata": {},
   "outputs": [],
   "source": [
    "bias = 3"
   ]
  },
  {
   "cell_type": "code",
   "execution_count": 4,
   "id": "452b6600",
   "metadata": {},
   "outputs": [
    {
     "name": "stdout",
     "output_type": "stream",
     "text": [
      "41.879999999999995\n"
     ]
    }
   ],
   "source": [
    "output = inputs[0] * weights[0] + inputs[1] * weights[1] + inputs[2] * weights[2] + bias\n",
    "print(output)"
   ]
  },
  {
   "cell_type": "markdown",
   "id": "0678c8cb",
   "metadata": {},
   "source": [
    "# Basic Neuron layer"
   ]
  },
  {
   "cell_type": "code",
   "execution_count": 10,
   "id": "23c10fd6",
   "metadata": {},
   "outputs": [],
   "source": [
    "inputs = [1, 2, 3, 2.5]"
   ]
  },
  {
   "cell_type": "code",
   "execution_count": 16,
   "id": "ddb08707",
   "metadata": {},
   "outputs": [],
   "source": [
    "weights1 = [0.2, 0.8, -0.5, 1.0]\n",
    "weights2 = [0.5, 1.8, -0.5, 1.0]\n",
    "weights3 = [0.2, 0.8, -2.5, 2.0]"
   ]
  },
  {
   "cell_type": "code",
   "execution_count": 17,
   "id": "1dfba8e0",
   "metadata": {},
   "outputs": [],
   "source": [
    "bias1 = 2\n",
    "bias2 = 2\n",
    "bias3 = 2"
   ]
  },
  {
   "cell_type": "code",
   "execution_count": 18,
   "id": "69301f85",
   "metadata": {},
   "outputs": [
    {
     "name": "stdout",
     "output_type": "stream",
     "text": [
      "[4.8, 7.1, 1.2999999999999998]\n"
     ]
    }
   ],
   "source": [
    "output = [inputs[0] * weights1[0] + inputs[1] * weights1[1] + inputs[2] * weights1[2] + inputs[3] * weights1[3] + bias1,\n",
    "         inputs[0] * weights2[0] + inputs[1] * weights2[1] + inputs[2] * weights2[2] + inputs[3] * weights2[3] + bias2,\n",
    "         inputs[0] * weights3[0] + inputs[1] * weights3[1] + inputs[2] * weights3[2] + inputs[3] * weights3[3] + bias3] \n",
    "print(output)  "
   ]
  },
  {
   "cell_type": "markdown",
   "id": "abf922d2",
   "metadata": {},
   "source": [
    "# Making Basic Neuron Layer much more dynamic "
   ]
  },
  {
   "cell_type": "code",
   "execution_count": 24,
   "id": "10b923a2",
   "metadata": {},
   "outputs": [],
   "source": [
    "inputs = [1, 2, 3, 2.5]"
   ]
  },
  {
   "cell_type": "code",
   "execution_count": 25,
   "id": "59f92d3a",
   "metadata": {},
   "outputs": [],
   "source": [
    "weights = [[0.2, 0.8, -0.5, 1.0],\n",
    "           [0.5, 1.8, -0.5, 1.0],\n",
    "           [0.2, 0.8, -2.5, 2.0]]"
   ]
  },
  {
   "cell_type": "code",
   "execution_count": 26,
   "id": "bae62191",
   "metadata": {},
   "outputs": [],
   "source": [
    "biases = [2,3, 0.5]"
   ]
  },
  {
   "cell_type": "code",
   "execution_count": 27,
   "id": "91c59ebc",
   "metadata": {},
   "outputs": [],
   "source": [
    "output_layer = []\n",
    "for neuron_weights, neuron_bias in zip(weights, biases):\n",
    "    neuron_output = 0\n",
    "    for n_input, weight in zip(inputs, neuron_weights):\n",
    "        neuron_output += n_input * weight\n",
    "    neuron_output  += neuron_bias\n",
    "    output_layer.append(neuron_output)"
   ]
  },
  {
   "cell_type": "code",
   "execution_count": 28,
   "id": "7f9b363b",
   "metadata": {},
   "outputs": [
    {
     "name": "stdout",
     "output_type": "stream",
     "text": [
      "[4.8, 8.1, -0.20000000000000018]\n"
     ]
    }
   ],
   "source": [
    "print(output_layer)"
   ]
  },
  {
   "cell_type": "markdown",
   "id": "e9bf33d1",
   "metadata": {},
   "source": [
    "# Dot Product "
   ]
  },
  {
   "cell_type": "code",
   "execution_count": 29,
   "id": "c689d11b",
   "metadata": {},
   "outputs": [],
   "source": [
    "import numpy as np"
   ]
  },
  {
   "cell_type": "code",
   "execution_count": 30,
   "id": "6f20dbba",
   "metadata": {},
   "outputs": [],
   "source": [
    "inputs = [2, 3, 2.1, 3.2]\n",
    "weights = [1, 1.5, 2.1, 1.2]"
   ]
  },
  {
   "cell_type": "code",
   "execution_count": 31,
   "id": "e348d1ce",
   "metadata": {},
   "outputs": [],
   "source": [
    "output = np.dot(inputs, weights) + bias"
   ]
  },
  {
   "cell_type": "code",
   "execution_count": 32,
   "id": "33670266",
   "metadata": {},
   "outputs": [
    {
     "name": "stdout",
     "output_type": "stream",
     "text": [
      "17.75\n"
     ]
    }
   ],
   "source": [
    "print(output)"
   ]
  },
  {
   "cell_type": "code",
   "execution_count": 33,
   "id": "c8335037",
   "metadata": {},
   "outputs": [],
   "source": [
    "output = np.dot(weights , inputs) + bias"
   ]
  },
  {
   "cell_type": "code",
   "execution_count": 34,
   "id": "3515c42e",
   "metadata": {},
   "outputs": [
    {
     "name": "stdout",
     "output_type": "stream",
     "text": [
      "17.75\n"
     ]
    }
   ],
   "source": [
    "print(output)"
   ]
  },
  {
   "cell_type": "code",
   "execution_count": 36,
   "id": "01055b7e",
   "metadata": {},
   "outputs": [],
   "source": [
    "# In this case, both are the vectors and it does not really matter which one comes first in dot product."
   ]
  },
  {
   "cell_type": "code",
   "execution_count": null,
   "id": "e53cdc5a",
   "metadata": {},
   "outputs": [],
   "source": []
  }
 ],
 "metadata": {
  "kernelspec": {
   "display_name": "Python 3",
   "language": "python",
   "name": "python3"
  },
  "language_info": {
   "codemirror_mode": {
    "name": "ipython",
    "version": 3
   },
   "file_extension": ".py",
   "mimetype": "text/x-python",
   "name": "python",
   "nbconvert_exporter": "python",
   "pygments_lexer": "ipython3",
   "version": "3.8.8"
  }
 },
 "nbformat": 4,
 "nbformat_minor": 5
}
